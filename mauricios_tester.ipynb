{
 "cells": [
  {
   "cell_type": "code",
   "execution_count": 230,
   "metadata": {},
   "outputs": [],
   "source": [
    "%matplotlib inline\n",
    "# Dependencies and Setup\n",
    "import matplotlib.pyplot as plt\n",
    "import pandas as pd\n",
    "import numpy as np\n",
    "from matplotlib import cm\n",
    "\n",
    "small_csv = \"Resources/OSMI_2016_small_df.csv\"\n",
    "\n",
    "small = pd.read_csv(small_csv)"
   ]
  },
  {
   "cell_type": "code",
   "execution_count": 231,
   "metadata": {},
   "outputs": [],
   "source": [
    "# small['What is your gender?'].value_counts()"
   ]
  },
  {
   "cell_type": "code",
   "execution_count": 232,
   "metadata": {},
   "outputs": [],
   "source": [
    "small['What is your gender?'] = small['What is your gender?'].replace({\n",
    "    'male': 'Male',\n",
    "    'Male ': 'Male',\n",
    "    'm': 'Male',\n",
    "    'man': 'Male',\n",
    "    'M2F': 'Male',\n",
    "    'Cis male': 'Male',\n",
    "    'Male.': 'Male',\n",
    "    'Male (cis)': 'Male',\n",
    "    'Man': 'Male',\n",
    "    'Sex is male': 'Male',\n",
    "    'cis male': 'Male',\n",
    "    'Dude': 'Male',\n",
    "    \"I'm a man why didn't you make this a drop down question. You should of asked sex? And I would of answered yes please. Seriously how much text can this take? \":'Male',\n",
    "    'mail': 'Male',\n",
    "    'male ': 'Male',\n",
    "    'Cis Male': 'Male',\n",
    "    'cisdude': 'Male',\n",
    "    'cis man': 'Male',\n",
    "    'MALE': 'Male',\n",
    "    'M': 'Male',\n",
    "    'Malr': 'Male'\n",
    "})"
   ]
  },
  {
   "cell_type": "code",
   "execution_count": 233,
   "metadata": {},
   "outputs": [],
   "source": [
    "# small['What is your gender?'].value_counts()"
   ]
  },
  {
   "cell_type": "code",
   "execution_count": 234,
   "metadata": {},
   "outputs": [],
   "source": [
    "small['What is your gender?'] = small['What is your gender?'].replace({\n",
    "    'F': 'Female',\n",
    "    'female': 'Female',\n",
    "    'F ': 'Female',\n",
    "    'female ': 'Female',\n",
    "    'Woman': 'Female',\n",
    "    'fm': 'Female',\n",
    "    'f': 'Female',\n",
    "    'Cis female ': 'Female',\n",
    "    'Female ': 'Female',\n",
    "    'woman': 'Female',\n",
    "    'Sex is Female': 'Female',\n",
    "    'female/woman': 'Female',\n",
    "    'Cisgender Female': 'Female',\n",
    "    \"fem\":'Female',\n",
    "    'Female (props for making this a freeform field, though)': 'Female',\n",
    "    ' Female': 'Female',\n",
    "    'Cis-woman': 'Female'\n",
    "})"
   ]
  },
  {
   "cell_type": "code",
   "execution_count": 235,
   "metadata": {},
   "outputs": [],
   "source": [
    "# small['What is your gender?'].value_counts()"
   ]
  },
  {
   "cell_type": "code",
   "execution_count": 240,
   "metadata": {},
   "outputs": [],
   "source": [
    "g = small['What is your gender?']\n",
    "\n",
    "for i in range(len(g)):\n",
    "    if g[i] not in ['Male', 'Female']:\n",
    "        small['What is your gender?'] = small['What is your gender?'].replace({g[i]: 'Other'})"
   ]
  },
  {
   "cell_type": "code",
   "execution_count": 241,
   "metadata": {},
   "outputs": [
    {
     "data": {
      "text/plain": [
       "Male      1056\n",
       "Female     336\n",
       "Other       41\n",
       "Name: What is your gender?, dtype: int64"
      ]
     },
     "execution_count": 241,
     "metadata": {},
     "output_type": "execute_result"
    }
   ],
   "source": [
    "small['What is your gender?'].value_counts()"
   ]
  },
  {
   "cell_type": "code",
   "execution_count": null,
   "metadata": {},
   "outputs": [],
   "source": []
  }
 ],
 "metadata": {
  "kernelspec": {
   "display_name": "Python 3",
   "language": "python",
   "name": "python3"
  },
  "language_info": {
   "codemirror_mode": {
    "name": "ipython",
    "version": 3
   },
   "file_extension": ".py",
   "mimetype": "text/x-python",
   "name": "python",
   "nbconvert_exporter": "python",
   "pygments_lexer": "ipython3",
   "version": "3.7.1"
  }
 },
 "nbformat": 4,
 "nbformat_minor": 2
}
