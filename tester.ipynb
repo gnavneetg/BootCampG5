{
 "cells": [
  {
   "cell_type": "code",
   "execution_count": 24,
   "metadata": {},
   "outputs": [
    {
     "name": "stdout",
     "output_type": "stream",
     "text": [
      "Col: 0-  Are you self-employed? \n",
      "Col: 1-  How many employees does your company or organization have? \n",
      "Col: 2-  Is your employer primarily a tech company/organization? \n",
      "Col: 3-  Is your primary role within your company related to tech/IT? \n",
      "Col: 4-  Does your employer provide mental health benefits as part of healthcare coverage? \n",
      "Col: 5-  Do you know the options for mental health care available under your employer-provided coverage? \n",
      "Col: 6-  Has your employer ever formally discussed mental health (for example, as part of a wellness campaign or other official communication)? \n",
      "Col: 7-  Does your employer offer resources to learn more about mental health concerns and options for seeking help? \n",
      "Col: 8-  Is your anonymity protected if you choose to take advantage of mental health or substance abuse treatment resources provided by your employer? \n",
      "Col: 9-  If a mental health issue prompted you to request a medical leave from work, asking for that leave would be: \n",
      "Col: 10-  Do you think that discussing a mental health disorder with your employer would have negative consequences? \n",
      "Col: 11-  Do you think that discussing a physical health issue with your employer would have negative consequences? \n",
      "Col: 12-  Would you feel comfortable discussing a mental health disorder with your coworkers? \n",
      "Col: 13-  Would you feel comfortable discussing a mental health disorder with your direct supervisor(s)? \n",
      "Col: 14-  Do you feel that your employer takes mental health as seriously as physical health? \n",
      "Col: 15-  Have you heard of or observed negative consequences for co-workers who have been open about mental health issues in your workplace? \n",
      "Col: 16-  Do you have medical coverage (private insurance or state-provided) which includes treatment of  mental health issues? \n",
      "Col: 17-  Do you know local or online resources to seek help for a mental health disorder? \n",
      "Col: 18-  If you have been diagnosed or treated for a mental health disorder, do you ever reveal this to clients or business contacts? \n",
      "Col: 19-  If you have revealed a mental health issue to a client or business contact, do you believe this has impacted you negatively? \n",
      "Col: 20-  If you have been diagnosed or treated for a mental health disorder, do you ever reveal this to coworkers or employees? \n",
      "Col: 21-  If you have revealed a mental health issue to a coworker or employee, do you believe this has impacted you negatively? \n",
      "Col: 22-  Do you believe your productivity is ever affected by a mental health issue? \n",
      "Col: 23-  If yes, what percentage of your work time (time performing primary or secondary job functions) is affected by a mental health issue? \n",
      "Col: 24-  Do you have previous employers? \n",
      "Col: 25-  Have your previous employers provided mental health benefits? \n",
      "Col: 26-  Were you aware of the options for mental health care provided by your previous employers? \n",
      "Col: 27-  Did your previous employers ever formally discuss mental health (as part of a wellness campaign or other official communication)? \n",
      "Col: 28-  Did your previous employers provide resources to learn more about mental health issues and how to seek help? \n",
      "Col: 29-  Was your anonymity protected if you chose to take advantage of mental health or substance abuse treatment resources with previous employers? \n",
      "Col: 30-  Do you think that discussing a mental health disorder with previous employers would have negative consequences? \n",
      "Col: 31-  Do you think that discussing a physical health issue with previous employers would have negative consequences? \n",
      "Col: 32-  Would you have been willing to discuss a mental health issue with your previous co-workers? \n",
      "Col: 33-  Would you have been willing to discuss a mental health issue with your direct supervisor(s)? \n",
      "Col: 34-  Did you feel that your previous employers took mental health as seriously as physical health? \n",
      "Col: 35-  Did you hear of or observe negative consequences for co-workers with mental health issues in your previous workplaces? \n",
      "Col: 36-  Would you be willing to bring up a physical health issue with a potential employer in an interview? \n",
      "Col: 37-  Why or why not? \n",
      "Col: 38-  Would you bring up a mental health issue with a potential employer in an interview? \n",
      "Col: 39-  Why or why not?.1 \n",
      "Col: 40-  Do you feel that being identified as a person with a mental health issue would hurt your career? \n",
      "Col: 41-  Do you think that team members/co-workers would view you more negatively if they knew you suffered from a mental health issue? \n",
      "Col: 42-  How willing would you be to share with friends and family that you have a mental illness? \n",
      "Col: 43-  Have you observed or experienced an unsupportive or badly handled response to a mental health issue in your current or previous workplace? \n",
      "Col: 44-  Have your observations of how another individual who discussed a mental health disorder made you less likely to reveal a mental health issue yourself in your current workplace? \n",
      "Col: 45-  Do you have a family history of mental illness? \n",
      "Col: 46-  Have you had a mental health disorder in the past? \n",
      "Col: 47-  Do you currently have a mental health disorder? \n",
      "Col: 48-  If yes, what condition(s) have you been diagnosed with? \n",
      "Col: 49-  If maybe, what condition(s) do you believe you have? \n",
      "Col: 50-  Have you been diagnosed with a mental health condition by a medical professional? \n",
      "Col: 51-  If so, what condition(s) were you diagnosed with? \n",
      "Col: 52-  Have you ever sought treatment for a mental health issue from a mental health professional? \n",
      "Col: 53-  If you have a mental health issue, do you feel that it interferes with your work when being treated effectively? \n",
      "Col: 54-  If you have a mental health issue, do you feel that it interferes with your work when NOT being treated effectively? \n",
      "Col: 55-  What is your age? \n",
      "Col: 56-  What is your gender? \n",
      "Col: 57-  What country do you live in? \n",
      "Col: 58-  What US state or territory do you live in? \n",
      "Col: 59-  What country do you work in? \n",
      "Col: 60-  What US state or territory do you work in? \n",
      "Col: 61-  Which of the following best describes your work position? \n",
      "Col: 62-  Do you work remotely? \n"
     ]
    }
   ],
   "source": [
    "%matplotlib inline\n",
    "# Dependencies and Setup\n",
    "import matplotlib.pyplot as plt\n",
    "import pandas as pd\n",
    "import numpy as np\n",
    "from matplotlib import cm\n",
    "\n",
    "data_to_load_2016 = \"Resources/OSMI_2016.csv\"\n",
    "data_to_load_2017 =  \"Resources/OSMI_2017.csv\"\n",
    "data_to_load_2018 =  \"Resources/OSMI_2018.csv\"\n",
    "\n",
    "\n",
    "# Read the City and Ride Data\n",
    "_2016 = pd.read_csv(data_to_load_2016)\n",
    "_2017 = pd.read_csv(data_to_load_2017)\n",
    "_2018 = pd.read_csv(data_to_load_2018)\n",
    "\n",
    "# _2016.columns[0:10]\n",
    "\n",
    "for i in range(len(_2016.columns)):\n",
    "    print(F\"Col: {i}-  {_2016.columns[i]} \")\n"
   ]
  },
  {
   "cell_type": "code",
   "execution_count": 36,
   "metadata": {},
   "outputs": [
    {
     "data": {
      "text/plain": [
       "Sometimes    757\n",
       "Always       343\n",
       "Never        333\n",
       "Name: Do you work remotely?, dtype: int64"
      ]
     },
     "execution_count": 36,
     "metadata": {},
     "output_type": "execute_result"
    }
   ],
   "source": [
    "_2016[\"Do you work remotely?\"].value_counts()"
   ]
  },
  {
   "cell_type": "code",
   "execution_count": 35,
   "metadata": {},
   "outputs": [
    {
     "data": {
      "text/plain": [
       "Male                                                         328\n",
       "Female                                                       108\n",
       "male                                                         102\n",
       "female                                                        63\n",
       "M                                                             27\n",
       "m                                                             23\n",
       "F                                                             16\n",
       "f                                                             13\n",
       "Male                                                           6\n",
       "Woman                                                          4\n",
       "Nonbinary                                                      4\n",
       "Female                                                         3\n",
       "Man                                                            3\n",
       "Cis-male                                                       2\n",
       "woman                                                          2\n",
       "Male-ish                                                       1\n",
       "sometimes                                                      1\n",
       "Genderqueer demigirl                                           1\n",
       "femalw                                                         1\n",
       "nonbinary                                                      1\n",
       "cis-Female                                                     1\n",
       "God King of the Valajar                                        1\n",
       "female (cisgender)                                             1\n",
       "Non-binary                                                     1\n",
       "Female (cis)                                                   1\n",
       "Genderqueer/non-binary                                         1\n",
       "trans woman                                                    1\n",
       "femail                                                         1\n",
       "cis hetero male                                                1\n",
       "Male (cis)                                                     1\n",
       "Mail                                                           1\n",
       "Cis Male                                                       1\n",
       "Non binary                                                     1\n",
       "Transfeminine                                                  1\n",
       "cis-male                                                       1\n",
       "My sex is female.                                              1\n",
       "cis female                                                     1\n",
       "man                                                            1\n",
       "Contextual                                                     1\n",
       "cis male                                                       1\n",
       "male (hey this is the tech industry you're talking about)      1\n",
       "dude                                                           1\n",
       "female (cis)                                                   1\n",
       "Cis male                                                       1\n",
       "\\-                                                             1\n",
       "Genderfluid                                                    1\n",
       "uhhhhhhhhh fem genderqueer?                                    1\n",
       "Female-ish                                                     1\n",
       "male/androgynous                                               1\n",
       "None                                                           1\n",
       "Woman-identified                                               1\n",
       "F, cisgender                                                   1\n",
       "Agender/genderfluid                                            1\n",
       "Male, cis                                                      1\n",
       "Name: What is your gender?, dtype: int64"
      ]
     },
     "execution_count": 35,
     "metadata": {},
     "output_type": "execute_result"
    }
   ],
   "source": [
    "_2017['What is your gender?'].value_counts()"
   ]
  },
  {
   "cell_type": "code",
   "execution_count": null,
   "metadata": {},
   "outputs": [],
   "source": []
  },
  {
   "cell_type": "code",
   "execution_count": null,
   "metadata": {},
   "outputs": [],
   "source": []
  },
  {
   "cell_type": "code",
   "execution_count": null,
   "metadata": {},
   "outputs": [],
   "source": []
  }
 ],
 "metadata": {
  "kernelspec": {
   "display_name": "Python 3",
   "language": "python",
   "name": "python3"
  },
  "language_info": {
   "codemirror_mode": {
    "name": "ipython",
    "version": 3
   },
   "file_extension": ".py",
   "mimetype": "text/x-python",
   "name": "python",
   "nbconvert_exporter": "python",
   "pygments_lexer": "ipython3",
   "version": "3.7.1"
  }
 },
 "nbformat": 4,
 "nbformat_minor": 2
}
