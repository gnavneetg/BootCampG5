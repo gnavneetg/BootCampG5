{
 "cells": [
  {
   "cell_type": "code",
   "execution_count": 348,
   "metadata": {},
   "outputs": [],
   "source": [
    "#Dependencies\n",
    "import pandas as pd\n",
    "import numpy as np\n",
    "import matplotlib.pyplot as plt\n",
    "import os\n",
    "import csv"
   ]
  },
  {
   "cell_type": "code",
   "execution_count": null,
   "metadata": {},
   "outputs": [],
   "source": [
    "#reduce file is the data with the 37 questions selected\n",
    "reduced_file = \"Resources/OSMI_2016_small_df.csv\"\n",
    "df = pd.read_csv(reduced_file)\n",
    "df.head(1)"
   ]
  },
  {
   "cell_type": "markdown",
   "metadata": {},
   "source": [
    "#### Consolidating Genders into 3 Categories (.replace())"
   ]
  },
  {
   "cell_type": "code",
   "execution_count": 527,
   "metadata": {},
   "outputs": [],
   "source": [
    "#Reduces the gender column to 3 values: Male, Female, Other\n",
    "\n",
    "df['What is your gender?'] = df['What is your gender?'].replace({\n",
    "    'male': 'Male',\n",
    "    'Male ': 'Male',\n",
    "    'm': 'Male',\n",
    "    'man': 'Male',\n",
    "    'M2F': 'Male',\n",
    "    'Cis male': 'Male',\n",
    "    'Male.': 'Male',\n",
    "    'Male (cis)': 'Male',\n",
    "    'Man': 'Male',\n",
    "    'Sex is male': 'Male',\n",
    "    'cis male': 'Male',\n",
    "    'Dude': 'Male',\n",
    "    \"I'm a man why didn't you make this a drop down question. You should of asked sex? And I would of answered yes please. Seriously how much text can this take? \":'Male',\n",
    "    'mail': 'Male',\n",
    "    'male ': 'Male',\n",
    "    'Cis Male': 'Male',\n",
    "    'cisdude': 'Male',\n",
    "    'cis man': 'Male',\n",
    "    'MALE': 'Male',\n",
    "    'M': 'Male',\n",
    "    'Malr': 'Male'\n",
    "})\n",
    "\n",
    "df['What is your gender?'] = df['What is your gender?'].replace({\n",
    "    'F': 'Female',\n",
    "    'female': 'Female',\n",
    "    'F ': 'Female',\n",
    "    'female ': 'Female',\n",
    "    'Woman': 'Female',\n",
    "    'fm': 'Female',\n",
    "    'f': 'Female',\n",
    "    'Cis female ': 'Female',\n",
    "    'Female ': 'Female',\n",
    "    'woman': 'Female',\n",
    "    'Sex is Female': 'Female',\n",
    "    'female/woman': 'Female',\n",
    "    'Cisgender Female': 'Female',\n",
    "    \"fem\":'Female',\n",
    "    'Female (props for making this a freeform field, though)': 'Female',\n",
    "    ' Female': 'Female',\n",
    "    'Cis-woman': 'Female'\n",
    "})\n",
    "\n",
    "#temp variable to hold the gender column values\n",
    "g = df['What is your gender?']\n",
    "\n",
    "# changes what is not  Male or Female,  to `other`\n",
    "for i in range(len(g)):\n",
    "    if g[i] not in ['Male', 'Female']:\n",
    "        df['What is your gender?'] = g.replace({g[i]: 'Other'})\n",
    "        "
   ]
  },
  {
   "cell_type": "code",
   "execution_count": 529,
   "metadata": {},
   "outputs": [],
   "source": [
    "# df['What is your gender?'].value_counts()"
   ]
  },
  {
   "cell_type": "code",
   "execution_count": 530,
   "metadata": {},
   "outputs": [
    {
     "name": "stdout",
     "output_type": "stream",
     "text": [
      "Column count:  37\n"
     ]
    }
   ],
   "source": [
    "print('Column count: ', len(df.columns))"
   ]
  },
  {
   "cell_type": "code",
   "execution_count": 60,
   "metadata": {},
   "outputs": [],
   "source": [
    "# short_col is the dictionary with only the Question number (Example: Q1, Q2 ...)\n",
    "\n",
    "short_cols = {\n",
    "                    \n",
    "       'Are you self-employed?': \"Q1\" ,\n",
    "       'How many employees does your company or organization have?': \"Q2\",\n",
    "       'Is your employer primarily a tech company/organization?': \"Q3\",\n",
    "       'Is your primary role within your company related to tech/IT?': \"Q4\",\n",
    "       'Does your employer provide mental health benefits as part of healthcare coverage?': \"Q5\",\n",
    "       'Has your employer ever formally discussed mental health (for example, as part of a wellness campaign or other official communication)?':\"Q6\",\n",
    "       'Does your employer offer resources to learn more about mental health concerns and options for seeking help?':\"Q7\",\n",
    "       'Is your anonymity protected if you choose to take advantage of mental health or substance abuse treatment resources provided by your employer?': \"Q8\",\n",
    "       'Do you think that discussing a mental health disorder with your employer would have negative consequences?': \"Q9\",\n",
    "       'Would you feel comfortable discussing a mental health disorder with your coworkers?': \"Q10\",\n",
    "       'Would you feel comfortable discussing a mental health disorder with your direct supervisor(s)?': \"Q11\",\n",
    "       'Have you heard of or observed negative consequences for co-workers who have been open about mental health issues in your workplace?': \"Q12\",\n",
    "       'Do you know local or online resources to seek help for a mental health disorder?': \"Q13\",\n",
    "       'If you have been diagnosed or treated for a mental health disorder, do you ever reveal this to clients or business contacts?':\"Q14\",\n",
    "       'If you have revealed a mental health issue to a client or business contact, do you believe this has impacted you negatively?': \"Q15\",\n",
    "       'If you have been diagnosed or treated for a mental health disorder, do you ever reveal this to coworkers or employees?': \"Q16\",\n",
    "       'If you have revealed a mental health issue to a coworker or employee, do you believe this has impacted you negatively?': \"Q17\",\n",
    "       'Did you feel that your previous employers took mental health as seriously as physical health?': \"Q18\",\n",
    "       'Do you feel that being identified as a person with a mental health issue would hurt your career?': \"Q19\",\n",
    "       'Do you think that team members/co-workers would view you more negatively if they knew you suffered from a mental health issue?': \"Q20\",\n",
    "       'Have you observed or experienced an unsupportive or badly handled response to a mental health issue in your current or previous workplace?':\"Q21\",\n",
    "       'Have your observations of how another individual who discussed a mental health disorder made you less likely to reveal a mental health issue yourself in your current workplace?':\"Q22\" ,\n",
    "    \n",
    "        'Do you have a family history of mental illness?':\"Q23\",\n",
    "       'Have you had a mental health disorder in the past?':\"Q24\",\n",
    "       'Do you currently have a mental health disorder?':\"Q25\",\n",
    "       'If yes, what condition(s) have you been diagnosed with?':\"Q26\",\n",
    "       'Have you been diagnosed with a mental health condition by a medical professional?':\"Q27\",\n",
    "       'If so, what condition(s) were you diagnosed with?':\"Q28\",\n",
    "       'Have you ever sought treatment for a mental health issue from a mental health professional?':\"Q29\",\n",
    "       'What is your age?':\"Q30\",\n",
    "       'What is your gender?': \"Q31\",\n",
    "       'What country do you live in?': \"Q32\",\n",
    "       'What US state or territory do you live in?': \"Q33\",\n",
    "       'What country do you work in?': \"Q34\",\n",
    "       'What US state or territory do you work in?':\"Q35\",\n",
    "       'Which of the following best describes your work position?':\"Q36\",\n",
    "       'Do you work remotely?':\"Q37\"\n",
    "                    \n",
    "}"
   ]
  },
  {
   "cell_type": "code",
   "execution_count": 61,
   "metadata": {},
   "outputs": [],
   "source": [
    "#create inverse dictionary with a dictionary comprehension\n",
    " #we use the inverse dictionary to display questions in our results\n",
    "long_cols = {v: k for k, v in short_cols.items()}"
   ]
  },
  {
   "cell_type": "code",
   "execution_count": null,
   "metadata": {},
   "outputs": [],
   "source": [
    "# long_cols is the dictionary with the question labels as the values\n",
    "# - can be used to display only the labels in a dataframe\n",
    "long_cols"
   ]
  },
  {
   "cell_type": "code",
   "execution_count": 64,
   "metadata": {},
   "outputs": [],
   "source": [
    "# q_col_df is the dataframe with only the question number as the header (Example: Q1, Q2...)\n",
    "q_cols_df = df.rename(columns= short_cols)"
   ]
  },
  {
   "cell_type": "code",
   "execution_count": 532,
   "metadata": {},
   "outputs": [],
   "source": [
    "# raw df is the data frame with questions as columns\n",
    "raw_df = df.rename(columns= long_cols)"
   ]
  },
  {
   "cell_type": "code",
   "execution_count": 533,
   "metadata": {},
   "outputs": [],
   "source": [
    "# create a for loop to add the question number to the question label (Example: Q1- Are you self-employed?)\n",
    "q_names_cols = {}\n",
    "for i in range(0,len(df.columns)):\n",
    "    q_names_cols[df.columns[i]] =   f\"Q{i+1}- {df.columns[i]}\""
   ]
  },
  {
   "cell_type": "code",
   "execution_count": 534,
   "metadata": {},
   "outputs": [],
   "source": [
    "# q_names_cols"
   ]
  },
  {
   "cell_type": "code",
   "execution_count": 535,
   "metadata": {},
   "outputs": [],
   "source": [
    "# Create dataframe the the question name and question label \n",
    "q_names_df = df.rename(columns= q_names_cols)"
   ]
  },
  {
   "cell_type": "markdown",
   "metadata": {},
   "source": [
    "## VARIABLES"
   ]
  },
  {
   "cell_type": "code",
   "execution_count": 115,
   "metadata": {},
   "outputs": [],
   "source": [
    "self_employed_count = int(q_names_df[q_names_df['Q1- Are you self-employed?'] == 1][['Q1- Are you self-employed?']].count())\n",
    "employed_count =int(q_names_df[q_names_df['Q1- Are you self-employed?'] == 0][['Q1- Are you self-employed?']].count())\n",
    "\n",
    "total_survey_workers_count = int(employed_count + self_employed_count)\n",
    "tech_workers_count = int(q_cols_df[q_cols_df['Q4'] == 1.0]['Q4'].count())\n",
    "other_workers_count = int(total_survey_workers_count - tech_workers_count)\n"
   ]
  },
  {
   "cell_type": "code",
   "execution_count": 132,
   "metadata": {},
   "outputs": [
    {
     "name": "stdout",
     "output_type": "stream",
     "text": [
      "total_survey_workers_count: 1433\n",
      "tech_workers_count: 248\n",
      "other_workers_count: 1185\n"
     ]
    }
   ],
   "source": [
    "print(f\"total_survey_workers_count: {total_survey_workers_count}\")\n",
    "print(f\"tech_workers_count: {tech_workers_count}\")\n",
    "print(f\"other_workers_count: {other_workers_count}\")"
   ]
  },
  {
   "cell_type": "code",
   "execution_count": 76,
   "metadata": {},
   "outputs": [
    {
     "name": "stdout",
     "output_type": "stream",
     "text": [
      "Tech or not:  263\n",
      "Tech:  248\n",
      "non Tech:  15\n"
     ]
    }
   ],
   "source": [
    "# Count of tech + non tech workers based on answers to Q4[0.0 or 1.0]\n",
    "\n",
    "print('Tech or not: ', q_cols_df[(q_cols_df['Q4'] == 0.0) | (q_cols_df['Q4'] == 1.0)]['Q4'].count())\n",
    "print('Tech: ', q_cols_df[q_cols_df['Q4'] == 1.0]['Q4'].count() )\n",
    "print('non Tech: ', q_cols_df[q_cols_df['Q4'] == 0.0]['Q4'].count() )"
   ]
  },
  {
   "cell_type": "markdown",
   "metadata": {},
   "source": [
    "### Q4: Is Employee Role in tech? +  Cleanup answers to Q: [19,20,21,29]"
   ]
  },
  {
   "cell_type": "code",
   "execution_count": 133,
   "metadata": {},
   "outputs": [],
   "source": [
    "# Q4: Is Employee Role in tech?\n",
    "tech_workers_df = pd.DataFrame(q_cols_df[q_cols_df['Q4'] == 1.0])\n",
    "\n",
    "tech_workers_df['Q4'] = tech_workers_df['Q4'].replace({1.0: \"Yes\"})\n",
    "\n",
    "tech_workers_df['Q20'] = tech_workers_df['Q20'].replace({\n",
    "    \"Yes, I think they would\": \"Yes\",\n",
    "    \"Yes, they do\": \"Yes\",\n",
    "    \"No, I don't think they would\": \"No\",\n",
    "    \"No, they do not\": \"No\"\n",
    "    })\n",
    "\n",
    "tech_workers_df['Q21'] = tech_workers_df['Q21'].replace({\n",
    "    \"Maybe/Not sure\": \"Maybe\",\n",
    "    \"Yes, I observed\": \"Yes\",\n",
    "    \"Yes, I experienced\": \"Yes\",\n",
    "    })\n",
    "\n",
    "tech_workers_df['Q19'] = tech_workers_df['Q19'].replace({\n",
    "    \"Yes, I think it would\": \"Yes\",\n",
    "    \"Yes, it has\": \"Yes\",\n",
    "    \"No, I don't think it would\": \"No\",\n",
    "    \"No, it has not\": \"No\"\n",
    "    })\n",
    "\n",
    "tech_workers_df['Q29'] = tech_workers_df['Q29'].replace({\n",
    "    1: \"Yes\",\n",
    "    0: \"No\"\n",
    "    })\n",
    "\n",
    "# tech_workers_df['Q19'].value_counts().index\n"
   ]
  },
  {
   "cell_type": "code",
   "execution_count": 134,
   "metadata": {},
   "outputs": [],
   "source": [
    "# REDUCING TECH WORKERS DF TO RELEVANT COLUMNS\n",
    "tech_workers_df = tech_workers_df[['Q31','Q4', 'Q27', 'Q29', 'Q23', 'Q24', 'Q25', 'Q8']]"
   ]
  },
  {
   "cell_type": "code",
   "execution_count": 540,
   "metadata": {},
   "outputs": [
    {
     "data": {
      "text/html": [
       "<div>\n",
       "<style scoped>\n",
       "    .dataframe tbody tr th:only-of-type {\n",
       "        vertical-align: middle;\n",
       "    }\n",
       "\n",
       "    .dataframe tbody tr th {\n",
       "        vertical-align: top;\n",
       "    }\n",
       "\n",
       "    .dataframe thead th {\n",
       "        text-align: right;\n",
       "    }\n",
       "</style>\n",
       "<table border=\"1\" class=\"dataframe\">\n",
       "  <thead>\n",
       "    <tr style=\"text-align: right;\">\n",
       "      <th></th>\n",
       "      <th>Q31</th>\n",
       "      <th>Q4</th>\n",
       "      <th>Q27</th>\n",
       "      <th>Q29</th>\n",
       "      <th>Q23</th>\n",
       "      <th>Q24</th>\n",
       "      <th>Q25</th>\n",
       "      <th>Q8</th>\n",
       "    </tr>\n",
       "  </thead>\n",
       "  <tbody>\n",
       "    <tr>\n",
       "      <th>4</th>\n",
       "      <td>Female</td>\n",
       "      <td>Yes</td>\n",
       "      <td>Yes</td>\n",
       "      <td>Yes</td>\n",
       "      <td>Yes</td>\n",
       "      <td>Yes</td>\n",
       "      <td>Yes</td>\n",
       "      <td>No</td>\n",
       "    </tr>\n",
       "    <tr>\n",
       "      <th>8</th>\n",
       "      <td>Female</td>\n",
       "      <td>Yes</td>\n",
       "      <td>Yes</td>\n",
       "      <td>Yes</td>\n",
       "      <td>Yes</td>\n",
       "      <td>Yes</td>\n",
       "      <td>Yes</td>\n",
       "      <td>I don't know</td>\n",
       "    </tr>\n",
       "  </tbody>\n",
       "</table>\n",
       "</div>"
      ],
      "text/plain": [
       "      Q31   Q4  Q27  Q29  Q23  Q24  Q25            Q8\n",
       "4  Female  Yes  Yes  Yes  Yes  Yes  Yes            No\n",
       "8  Female  Yes  Yes  Yes  Yes  Yes  Yes  I don't know"
      ]
     },
     "execution_count": 540,
     "metadata": {},
     "output_type": "execute_result"
    }
   ],
   "source": [
    "tech_workers_df.head(2)"
   ]
  },
  {
   "cell_type": "markdown",
   "metadata": {},
   "source": [
    "#### <span style=\"color:green\">tech_workers grouped by 'Q31': Gender</span>"
   ]
  },
  {
   "cell_type": "code",
   "execution_count": 136,
   "metadata": {},
   "outputs": [],
   "source": [
    "# Tech Workers  grouped by genders  =======================\n",
    "tech_gender_group = tech_workers_df.groupby('Q31').count()['Q4']"
   ]
  },
  {
   "cell_type": "markdown",
   "metadata": {},
   "source": [
    "## tech workers diagnosed by MH pro"
   ]
  },
  {
   "cell_type": "code",
   "execution_count": 148,
   "metadata": {},
   "outputs": [],
   "source": [
    "# Count of Tech workers diagnosed by MH Professional =================================================\n",
    "diagnosed_tech_workers = tech_workers_df[tech_workers_df['Q27'] == 'Yes'].groupby('Q31').count()['Q27']"
   ]
  },
  {
   "cell_type": "code",
   "execution_count": 541,
   "metadata": {},
   "outputs": [],
   "source": [
    "diagnosed_tech_workers"
   ]
  },
  {
   "cell_type": "markdown",
   "metadata": {},
   "source": [
    "## Summary Table: Tech Workers + Diagnosed Tech Workers"
   ]
  },
  {
   "cell_type": "code",
   "execution_count": 152,
   "metadata": {},
   "outputs": [],
   "source": [
    "tech_and_diagnosed_df = pd.DataFrame({\n",
    "    'Tech Workers Count': tech_gender_group,\n",
    "    'Tech Workers %': round((tech_gender_group/tech_gender_group.sum()) * 100,1),\n",
    "    'Diagnosed Tech Workers': diagnosed_tech_workers,\n",
    "    'Diagnosed %': round((diagnosed_tech_workers/(tech_gender_group)) * 100,1),\n",
    "    \n",
    "})"
   ]
  },
  {
   "cell_type": "code",
   "execution_count": 153,
   "metadata": {},
   "outputs": [],
   "source": [
    "tech_and_diagnosed_df.sort_values('Tech Workers Count', ascending=False, inplace=True)"
   ]
  },
  {
   "cell_type": "code",
   "execution_count": 542,
   "metadata": {},
   "outputs": [
    {
     "data": {
      "text/html": [
       "<div>\n",
       "<style scoped>\n",
       "    .dataframe tbody tr th:only-of-type {\n",
       "        vertical-align: middle;\n",
       "    }\n",
       "\n",
       "    .dataframe tbody tr th {\n",
       "        vertical-align: top;\n",
       "    }\n",
       "\n",
       "    .dataframe thead th {\n",
       "        text-align: right;\n",
       "    }\n",
       "</style>\n",
       "<table border=\"1\" class=\"dataframe\">\n",
       "  <thead>\n",
       "    <tr style=\"text-align: right;\">\n",
       "      <th></th>\n",
       "      <th>Tech Workers Count</th>\n",
       "      <th>Tech Workers %</th>\n",
       "      <th>Diagnosed Tech Workers</th>\n",
       "      <th>Diagnosed %</th>\n",
       "    </tr>\n",
       "    <tr>\n",
       "      <th>Q31</th>\n",
       "      <th></th>\n",
       "      <th></th>\n",
       "      <th></th>\n",
       "      <th></th>\n",
       "    </tr>\n",
       "  </thead>\n",
       "  <tbody>\n",
       "    <tr>\n",
       "      <th>Male</th>\n",
       "      <td>182</td>\n",
       "      <td>73.4</td>\n",
       "      <td>82</td>\n",
       "      <td>45.1</td>\n",
       "    </tr>\n",
       "    <tr>\n",
       "      <th>Female</th>\n",
       "      <td>60</td>\n",
       "      <td>24.2</td>\n",
       "      <td>40</td>\n",
       "      <td>66.7</td>\n",
       "    </tr>\n",
       "    <tr>\n",
       "      <th>Other</th>\n",
       "      <td>6</td>\n",
       "      <td>2.4</td>\n",
       "      <td>5</td>\n",
       "      <td>83.3</td>\n",
       "    </tr>\n",
       "  </tbody>\n",
       "</table>\n",
       "</div>"
      ],
      "text/plain": [
       "        Tech Workers Count  Tech Workers %  Diagnosed Tech Workers  \\\n",
       "Q31                                                                  \n",
       "Male                   182            73.4                      82   \n",
       "Female                  60            24.2                      40   \n",
       "Other                    6             2.4                       5   \n",
       "\n",
       "        Diagnosed %  \n",
       "Q31                  \n",
       "Male           45.1  \n",
       "Female         66.7  \n",
       "Other          83.3  "
      ]
     },
     "execution_count": 542,
     "metadata": {},
     "output_type": "execute_result"
    }
   ],
   "source": [
    "tech_and_diagnosed_df"
   ]
  },
  {
   "cell_type": "code",
   "execution_count": 543,
   "metadata": {},
   "outputs": [
    {
     "data": {
      "text/html": [
       "<div>\n",
       "<style scoped>\n",
       "    .dataframe tbody tr th:only-of-type {\n",
       "        vertical-align: middle;\n",
       "    }\n",
       "\n",
       "    .dataframe tbody tr th {\n",
       "        vertical-align: top;\n",
       "    }\n",
       "\n",
       "    .dataframe thead th {\n",
       "        text-align: right;\n",
       "    }\n",
       "</style>\n",
       "<table border=\"1\" class=\"dataframe\">\n",
       "  <thead>\n",
       "    <tr style=\"text-align: right;\">\n",
       "      <th></th>\n",
       "      <th>Tech Workers Count</th>\n",
       "      <th>Diagnosed Tech Workers</th>\n",
       "      <th>Diagnosed %</th>\n",
       "    </tr>\n",
       "    <tr>\n",
       "      <th>Q31</th>\n",
       "      <th></th>\n",
       "      <th></th>\n",
       "      <th></th>\n",
       "    </tr>\n",
       "  </thead>\n",
       "  <tbody>\n",
       "    <tr>\n",
       "      <th>Male</th>\n",
       "      <td>182</td>\n",
       "      <td>82</td>\n",
       "      <td>45.1</td>\n",
       "    </tr>\n",
       "    <tr>\n",
       "      <th>Female</th>\n",
       "      <td>60</td>\n",
       "      <td>40</td>\n",
       "      <td>66.7</td>\n",
       "    </tr>\n",
       "    <tr>\n",
       "      <th>Other</th>\n",
       "      <td>6</td>\n",
       "      <td>5</td>\n",
       "      <td>83.3</td>\n",
       "    </tr>\n",
       "  </tbody>\n",
       "</table>\n",
       "</div>"
      ],
      "text/plain": [
       "        Tech Workers Count  Diagnosed Tech Workers  Diagnosed %\n",
       "Q31                                                            \n",
       "Male                   182                      82         45.1\n",
       "Female                  60                      40         66.7\n",
       "Other                    6                       5         83.3"
      ]
     },
     "execution_count": 543,
     "metadata": {},
     "output_type": "execute_result"
    }
   ],
   "source": [
    "# TODO: From   tech_and_diagnosed_df Remove 'Tech Workers %' to get this result\n",
    "tech_and_diagnosed_df[[tech_and_diagnosed_df.columns[0],tech_and_diagnosed_df.columns[2], tech_and_diagnosed_df.columns[3]] ]"
   ]
  },
  {
   "cell_type": "markdown",
   "metadata": {},
   "source": [
    "## BELEIVES_anonymity_sought_treatment_df"
   ]
  },
  {
   "cell_type": "code",
   "execution_count": 276,
   "metadata": {},
   "outputs": [],
   "source": [
    "believes_anonymity = tech_workers_df[(tech_workers_df['Q27'] == 'Yes') & (tech_workers_df['Q8'] == 'Yes')].groupby('Q31').count()['Q8']\n",
    "# believes_anonymity"
   ]
  },
  {
   "cell_type": "code",
   "execution_count": 232,
   "metadata": {},
   "outputs": [],
   "source": [
    "believes_anonymity_sought_treatment = \\\n",
    "tech_workers_df[(tech_workers_df['Q27'] == 'Yes') & (tech_workers_df['Q8'] == 'Yes') & (tech_workers_df['Q29'] == 'Yes')].groupby('Q31').count()['Q29']"
   ]
  },
  {
   "cell_type": "code",
   "execution_count": 198,
   "metadata": {},
   "outputs": [],
   "source": [
    "believes_anonymity_sought_treatment_df = pd.DataFrame({\n",
    "    'Count': tech_gender_group,\n",
    "    'Diagnosed': diagnosed_tech_workers,\n",
    "    'Anonymity': believes_anonymity,\n",
    "    'Anonymity & sought treatment': believes_anonymity_sought_treatment,\n",
    "    'Anonymity & sought treatment %': round(believes_anonymity_sought_treatment/believes_anonymity*100,)\n",
    "    \n",
    "})"
   ]
  },
  {
   "cell_type": "code",
   "execution_count": 187,
   "metadata": {},
   "outputs": [
    {
     "data": {
      "text/html": [
       "<div>\n",
       "<style scoped>\n",
       "    .dataframe tbody tr th:only-of-type {\n",
       "        vertical-align: middle;\n",
       "    }\n",
       "\n",
       "    .dataframe tbody tr th {\n",
       "        vertical-align: top;\n",
       "    }\n",
       "\n",
       "    .dataframe thead th {\n",
       "        text-align: right;\n",
       "    }\n",
       "</style>\n",
       "<table border=\"1\" class=\"dataframe\">\n",
       "  <thead>\n",
       "    <tr style=\"text-align: right;\">\n",
       "      <th></th>\n",
       "      <th>Count</th>\n",
       "      <th>Diagnosed</th>\n",
       "      <th>Anonymity</th>\n",
       "      <th>Anonymity &amp; sought treatment</th>\n",
       "      <th>Anonymity &amp; sought treatment %</th>\n",
       "    </tr>\n",
       "    <tr>\n",
       "      <th>Q31</th>\n",
       "      <th></th>\n",
       "      <th></th>\n",
       "      <th></th>\n",
       "      <th></th>\n",
       "      <th></th>\n",
       "    </tr>\n",
       "  </thead>\n",
       "  <tbody>\n",
       "    <tr>\n",
       "      <th>Female</th>\n",
       "      <td>60</td>\n",
       "      <td>40</td>\n",
       "      <td>10</td>\n",
       "      <td>9</td>\n",
       "      <td>90.0</td>\n",
       "    </tr>\n",
       "    <tr>\n",
       "      <th>Male</th>\n",
       "      <td>182</td>\n",
       "      <td>82</td>\n",
       "      <td>22</td>\n",
       "      <td>21</td>\n",
       "      <td>95.5</td>\n",
       "    </tr>\n",
       "    <tr>\n",
       "      <th>Other</th>\n",
       "      <td>6</td>\n",
       "      <td>5</td>\n",
       "      <td>2</td>\n",
       "      <td>2</td>\n",
       "      <td>100.0</td>\n",
       "    </tr>\n",
       "  </tbody>\n",
       "</table>\n",
       "</div>"
      ],
      "text/plain": [
       "        Count  Diagnosed  Anonymity  Anonymity & sought treatment  \\\n",
       "Q31                                                                 \n",
       "Female     60         40         10                             9   \n",
       "Male      182         82         22                            21   \n",
       "Other       6          5          2                             2   \n",
       "\n",
       "        Anonymity & sought treatment %  \n",
       "Q31                                     \n",
       "Female                            90.0  \n",
       "Male                              95.5  \n",
       "Other                            100.0  "
      ]
     },
     "execution_count": 187,
     "metadata": {},
     "output_type": "execute_result"
    }
   ],
   "source": [
    "believes_anonymity_sought_treatment_df"
   ]
  },
  {
   "cell_type": "markdown",
   "metadata": {},
   "source": [
    "## UNCERTAIN_anonymity_sought_treatment_df"
   ]
  },
  {
   "cell_type": "code",
   "execution_count": 280,
   "metadata": {},
   "outputs": [],
   "source": [
    "uncertain_about_anonymity = \\\n",
    "tech_workers_df[(tech_workers_df['Q27'] == 'Yes') & (tech_workers_df['Q8'] == \"I don't know\")].groupby('Q31').count()['Q8']"
   ]
  },
  {
   "cell_type": "code",
   "execution_count": 281,
   "metadata": {},
   "outputs": [],
   "source": [
    "uncertain_anonymity_sought_treatment = \\\n",
    "tech_workers_df[(tech_workers_df['Q27'] == 'Yes') & (tech_workers_df['Q8'] == \"I don't know\") & (tech_workers_df['Q29'] == 'Yes')].groupby('Q31').count()['Q29']\n"
   ]
  },
  {
   "cell_type": "code",
   "execution_count": 283,
   "metadata": {},
   "outputs": [],
   "source": [
    "uncertain_anonymity_sought_treatment_df = pd.DataFrame({\n",
    "    'Count': tech_gender_group,\n",
    "    'Diagnosed': diagnosed_tech_workers,\n",
    "    'Uncertain About Anonymity': uncertain_about_anonymity,\n",
    "    'Uncertain Anonymity & sought treatment': uncertain_anonymity_sought_treatment,\n",
    "    'Uncertain Anonymity & sought treatment %': round(uncertain_anonymity_sought_treatment/uncertain_about_anonymity*100,1)\n",
    "    \n",
    "})"
   ]
  },
  {
   "cell_type": "code",
   "execution_count": 284,
   "metadata": {},
   "outputs": [],
   "source": [
    "uncertain_anonymity_sought_treatment_df.index.name = 'Gender'"
   ]
  },
  {
   "cell_type": "code",
   "execution_count": 544,
   "metadata": {},
   "outputs": [
    {
     "data": {
      "text/html": [
       "<div>\n",
       "<style scoped>\n",
       "    .dataframe tbody tr th:only-of-type {\n",
       "        vertical-align: middle;\n",
       "    }\n",
       "\n",
       "    .dataframe tbody tr th {\n",
       "        vertical-align: top;\n",
       "    }\n",
       "\n",
       "    .dataframe thead th {\n",
       "        text-align: right;\n",
       "    }\n",
       "</style>\n",
       "<table border=\"1\" class=\"dataframe\">\n",
       "  <thead>\n",
       "    <tr style=\"text-align: right;\">\n",
       "      <th></th>\n",
       "      <th>Count</th>\n",
       "      <th>Diagnosed</th>\n",
       "      <th>Uncertain About Anonymity</th>\n",
       "      <th>Uncertain Anonymity &amp; sought treatment</th>\n",
       "      <th>Uncertain Anonymity &amp; sought treatment %</th>\n",
       "    </tr>\n",
       "    <tr>\n",
       "      <th>Gender</th>\n",
       "      <th></th>\n",
       "      <th></th>\n",
       "      <th></th>\n",
       "      <th></th>\n",
       "      <th></th>\n",
       "    </tr>\n",
       "  </thead>\n",
       "  <tbody>\n",
       "    <tr>\n",
       "      <th>Female</th>\n",
       "      <td>60</td>\n",
       "      <td>40</td>\n",
       "      <td>28</td>\n",
       "      <td>27</td>\n",
       "      <td>96.4</td>\n",
       "    </tr>\n",
       "    <tr>\n",
       "      <th>Male</th>\n",
       "      <td>182</td>\n",
       "      <td>82</td>\n",
       "      <td>58</td>\n",
       "      <td>53</td>\n",
       "      <td>91.4</td>\n",
       "    </tr>\n",
       "    <tr>\n",
       "      <th>Other</th>\n",
       "      <td>6</td>\n",
       "      <td>5</td>\n",
       "      <td>3</td>\n",
       "      <td>3</td>\n",
       "      <td>100.0</td>\n",
       "    </tr>\n",
       "  </tbody>\n",
       "</table>\n",
       "</div>"
      ],
      "text/plain": [
       "        Count  Diagnosed  Uncertain About Anonymity  \\\n",
       "Gender                                                \n",
       "Female     60         40                         28   \n",
       "Male      182         82                         58   \n",
       "Other       6          5                          3   \n",
       "\n",
       "        Uncertain Anonymity & sought treatment  \\\n",
       "Gender                                           \n",
       "Female                                      27   \n",
       "Male                                        53   \n",
       "Other                                        3   \n",
       "\n",
       "        Uncertain Anonymity & sought treatment %  \n",
       "Gender                                            \n",
       "Female                                      96.4  \n",
       "Male                                        91.4  \n",
       "Other                                      100.0  "
      ]
     },
     "execution_count": 544,
     "metadata": {},
     "output_type": "execute_result"
    }
   ],
   "source": [
    "uncertain_anonymity_sought_treatment_df"
   ]
  },
  {
   "cell_type": "code",
   "execution_count": null,
   "metadata": {},
   "outputs": [],
   "source": []
  },
  {
   "cell_type": "markdown",
   "metadata": {},
   "source": [
    "## gender_anonymity_summary_df"
   ]
  },
  {
   "cell_type": "code",
   "execution_count": 545,
   "metadata": {},
   "outputs": [],
   "source": [
    "#TO DO: SUMMARY ABOUT ANONYMITY:\n",
    "\n",
    "gender_anonymity_summary_df = pd.DataFrame({\n",
    "   \n",
    "    'Uncertain Anonymity & sought treatment %': round(uncertain_anonymity_sought_treatment/uncertain_about_anonymity*100,1),\n",
    "    'Anonymity & sought treatment %': round(believes_anonymity_sought_treatment/believes_anonymity*100,)\n",
    "    \n",
    "})"
   ]
  },
  {
   "cell_type": "code",
   "execution_count": 254,
   "metadata": {},
   "outputs": [
    {
     "data": {
      "text/html": [
       "<div>\n",
       "<style scoped>\n",
       "    .dataframe tbody tr th:only-of-type {\n",
       "        vertical-align: middle;\n",
       "    }\n",
       "\n",
       "    .dataframe tbody tr th {\n",
       "        vertical-align: top;\n",
       "    }\n",
       "\n",
       "    .dataframe thead th {\n",
       "        text-align: right;\n",
       "    }\n",
       "</style>\n",
       "<table border=\"1\" class=\"dataframe\">\n",
       "  <thead>\n",
       "    <tr style=\"text-align: right;\">\n",
       "      <th></th>\n",
       "      <th>Uncertain Anonymity &amp; sought treatment %</th>\n",
       "      <th>Anonymity &amp; sought treatment %</th>\n",
       "    </tr>\n",
       "    <tr>\n",
       "      <th>Gender</th>\n",
       "      <th></th>\n",
       "      <th></th>\n",
       "    </tr>\n",
       "  </thead>\n",
       "  <tbody>\n",
       "    <tr>\n",
       "      <th>Female</th>\n",
       "      <td>96.4</td>\n",
       "      <td>90.0</td>\n",
       "    </tr>\n",
       "    <tr>\n",
       "      <th>Male</th>\n",
       "      <td>91.4</td>\n",
       "      <td>95.0</td>\n",
       "    </tr>\n",
       "    <tr>\n",
       "      <th>Other</th>\n",
       "      <td>100.0</td>\n",
       "      <td>100.0</td>\n",
       "    </tr>\n",
       "  </tbody>\n",
       "</table>\n",
       "</div>"
      ],
      "text/plain": [
       "        Uncertain Anonymity & sought treatment %  \\\n",
       "Gender                                             \n",
       "Female                                      96.4   \n",
       "Male                                        91.4   \n",
       "Other                                      100.0   \n",
       "\n",
       "        Anonymity & sought treatment %  \n",
       "Gender                                  \n",
       "Female                            90.0  \n",
       "Male                              95.0  \n",
       "Other                            100.0  "
      ]
     },
     "execution_count": 254,
     "metadata": {},
     "output_type": "execute_result"
    }
   ],
   "source": [
    "#BY GENDER\n",
    "gender_anonymity_summary_df.index.name = 'Gender'\n",
    "gender_anonymity_summary_df"
   ]
  },
  {
   "cell_type": "code",
   "execution_count": 546,
   "metadata": {},
   "outputs": [],
   "source": [
    "# SUMMARY ANONYMITY Genderless:\n",
    "\n",
    "genderless_anonymity_summary_df = pd.DataFrame({\n",
    "\n",
    "        'Uncertain Anonymity & sought treatment %': [round(uncertain_anonymity_sought_treatment.sum()/uncertain_about_anonymity.sum()*100,1)],\n",
    "    \n",
    "        'Anonymity & sought treatment %': [round(believes_anonymity_sought_treatment.sum()/believes_anonymity.sum()*100,1)],\n",
    "        \n",
    "})"
   ]
  },
  {
   "cell_type": "code",
   "execution_count": 547,
   "metadata": {},
   "outputs": [
    {
     "data": {
      "text/html": [
       "<div>\n",
       "<style scoped>\n",
       "    .dataframe tbody tr th:only-of-type {\n",
       "        vertical-align: middle;\n",
       "    }\n",
       "\n",
       "    .dataframe tbody tr th {\n",
       "        vertical-align: top;\n",
       "    }\n",
       "\n",
       "    .dataframe thead th {\n",
       "        text-align: right;\n",
       "    }\n",
       "</style>\n",
       "<table border=\"1\" class=\"dataframe\">\n",
       "  <thead>\n",
       "    <tr style=\"text-align: right;\">\n",
       "      <th></th>\n",
       "      <th>Uncertain Anonymity &amp; sought treatment %</th>\n",
       "      <th>Anonymity &amp; sought treatment %</th>\n",
       "    </tr>\n",
       "    <tr>\n",
       "      <th>All Genders</th>\n",
       "      <th></th>\n",
       "      <th></th>\n",
       "    </tr>\n",
       "  </thead>\n",
       "  <tbody>\n",
       "    <tr>\n",
       "      <th>0</th>\n",
       "      <td>93.3</td>\n",
       "      <td>94.1</td>\n",
       "    </tr>\n",
       "  </tbody>\n",
       "</table>\n",
       "</div>"
      ],
      "text/plain": [
       "             Uncertain Anonymity & sought treatment %  \\\n",
       "All Genders                                             \n",
       "0                                                93.3   \n",
       "\n",
       "             Anonymity & sought treatment %  \n",
       "All Genders                                  \n",
       "0                                      94.1  "
      ]
     },
     "execution_count": 547,
     "metadata": {},
     "output_type": "execute_result"
    }
   ],
   "source": [
    "genderless_anonymity_summary_df.index.name = 'All Genders'\n",
    "genderless_anonymity_summary_df"
   ]
  },
  {
   "cell_type": "markdown",
   "metadata": {},
   "source": [
    "# DOES THE BELIEVE IN HAVING ANONYMITY, INCREASE THE CHANCES OF WORKERS SEEKING TREATMENT?\n"
   ]
  },
  {
   "cell_type": "code",
   "execution_count": 325,
   "metadata": {},
   "outputs": [
    {
     "data": {
      "text/html": [
       "<div>\n",
       "<style scoped>\n",
       "    .dataframe tbody tr th:only-of-type {\n",
       "        vertical-align: middle;\n",
       "    }\n",
       "\n",
       "    .dataframe tbody tr th {\n",
       "        vertical-align: top;\n",
       "    }\n",
       "\n",
       "    .dataframe thead th {\n",
       "        text-align: right;\n",
       "    }\n",
       "</style>\n",
       "<table border=\"1\" class=\"dataframe\">\n",
       "  <thead>\n",
       "    <tr style=\"text-align: right;\">\n",
       "      <th></th>\n",
       "      <th>Uncertain Anonymity &amp; sought treatment %</th>\n",
       "      <th>Anonymity &amp; sought treatment %</th>\n",
       "    </tr>\n",
       "  </thead>\n",
       "  <tbody>\n",
       "    <tr>\n",
       "      <th>0</th>\n",
       "      <td>93.3</td>\n",
       "      <td>94.1</td>\n",
       "    </tr>\n",
       "  </tbody>\n",
       "</table>\n",
       "</div>"
      ],
      "text/plain": [
       "   Uncertain Anonymity & sought treatment %  Anonymity & sought treatment %\n",
       "0                                      93.3                            94.1"
      ]
     },
     "execution_count": 325,
     "metadata": {},
     "output_type": "execute_result"
    }
   ],
   "source": [
    "genderless_anonymity_summary_df"
   ]
  },
  {
   "cell_type": "markdown",
   "metadata": {},
   "source": [
    "# PLOTS: "
   ]
  },
  {
   "cell_type": "code",
   "execution_count": 548,
   "metadata": {},
   "outputs": [],
   "source": [
    "# Create an array that contains the number of users each language has\n",
    "anonymity_perception = ['Uncertain', 'Certain']\n",
    "x_axis = np.arange(len(anonymity_perception))\n",
    "x_axis\n",
    "anonymity_percentages = genderless_anonymity_summary_df.values[0]"
   ]
  },
  {
   "cell_type": "code",
   "execution_count": 550,
   "metadata": {},
   "outputs": [
    {
     "data": {
      "image/png": "[encoded data removed]",
      "text/plain": [
       "<Figure size 864x432 with 1 Axes>"
      ]
     },
     "metadata": {
      "needs_background": "light"
     },
     "output_type": "display_data"
    }
   ],
   "source": [
    "fig = plt.figure(figsize=(12, 6))\n",
    "ax = fig.add_subplot(1, 2, 1)\n",
    "\n",
    "ax.bar(\n",
    "    x_axis, \n",
    "    anonymity_percentages,\n",
    "    color='red',\n",
    "    alpha=0.5, \n",
    "    align=\"center\",\n",
    "    width = 0.5 # the width of the bars \n",
    ")\n",
    "\n",
    "tick_locations = [value for value in x_axis]\n",
    "plt.xticks(tick_locations, anonymity_perception)\n",
    "\n",
    "ax.set_xlim(-0.75, len(x_axis)-0.25)\n",
    "\n",
    "ax.set_ylim(0, 100)\n",
    "ax.set_title(\"Percentage of workers that sought treatment if they felt\\nUncertain or Certain about Having Anonymity\")\n",
    "ax.set_xlabel(\"How workers feel about having anonymity \\nif Treatment is Sought\")\n",
    "ax.set_ylabel(\"% of Workers Sought Treatment\")\n",
    "\n",
    "# # set individual bar lables\n",
    "for i in ax.patches:\n",
    "    # get_x pulls left or right; get_height pushes up or down\n",
    "    ax.text(i.get_x()+.12, i.get_height()-6, \\\n",
    "            str(round((i.get_height()), 2))+'%', fontsize=12,\n",
    "                color='black')\n",
    "    \n",
    "fig.savefig('Figures/anonymity_black.png')\n",
    "plt.savefig('Figures/anonymity_black.svg', format='svg', dpi=1500,bbox_inches = 'tight')\n"
   ]
  },
  {
   "cell_type": "code",
   "execution_count": null,
   "metadata": {},
   "outputs": [],
   "source": []
  },
  {
   "cell_type": "code",
   "execution_count": null,
   "metadata": {},
   "outputs": [],
   "source": []
  },
  {
   "cell_type": "code",
   "execution_count": null,
   "metadata": {},
   "outputs": [],
   "source": []
  },
  {
   "cell_type": "code",
   "execution_count": null,
   "metadata": {},
   "outputs": [],
   "source": []
  },
  {
   "cell_type": "code",
   "execution_count": null,
   "metadata": {},
   "outputs": [],
   "source": []
  },
  {
   "cell_type": "markdown",
   "metadata": {},
   "source": [
    "#### TESTING CALCULATIONS"
   ]
  },
  {
   "cell_type": "code",
   "execution_count": 132,
   "metadata": {},
   "outputs": [
    {
     "data": {
      "text/plain": [
       "127"
      ]
     },
     "execution_count": 132,
     "metadata": {},
     "output_type": "execute_result"
    }
   ],
   "source": [
    "#DIAGNOSED\n",
    "diagnosed_count = tech_workers_df[(tech_workers_df['Q27'] == 'Yes')]['Q27'].count()\n",
    "diagnosed_count"
   ]
  },
  {
   "cell_type": "code",
   "execution_count": 133,
   "metadata": {},
   "outputs": [
    {
     "data": {
      "text/plain": [
       "118"
      ]
     },
     "execution_count": 133,
     "metadata": {},
     "output_type": "execute_result"
    }
   ],
   "source": [
    "#DIAGNOSED AND SOUGHT TREATMENT\n",
    "diagnosed_sought_treamtment_count = tech_workers_df[(tech_workers_df['Q27'] == 'Yes') & (tech_workers_df['Q29'] == \"Yes\")]['Q29'].count()\n",
    "diagnosed_sought_treamtment_count"
   ]
  },
  {
   "cell_type": "code",
   "execution_count": 160,
   "metadata": {},
   "outputs": [
    {
     "data": {
      "text/plain": [
       "92.9"
      ]
     },
     "execution_count": 160,
     "metadata": {},
     "output_type": "execute_result"
    }
   ],
   "source": [
    "#OF THOSE DIAGNOSED, WHAT PERCENTAGE SOUGHT TREATMENT?\n",
    "diangonsed_sought_treatment_percent = diagnosed_sought_treamtment_count/diagnosed_count\n",
    "round(diangonsed_sought_treatment_percent*100,1)"
   ]
  },
  {
   "cell_type": "code",
   "execution_count": 152,
   "metadata": {},
   "outputs": [
    {
     "data": {
      "text/plain": [
       "34"
      ]
     },
     "execution_count": 152,
     "metadata": {},
     "output_type": "execute_result"
    }
   ],
   "source": [
    "# OF THOSE DIAGNOSED, HOW MANY BELIEVE WILL HAVE ANONYMITY IF THEY SEEK TREATMENT? \n",
    "diagnosed_anonymity_count = tech_workers_df[(tech_workers_df['Q27'] == 'Yes') & (tech_workers_df['Q8'] == \"Yes\")]['Q8'].count()\n",
    "diagnosed_anonymity_count"
   ]
  },
  {
   "cell_type": "code",
   "execution_count": 153,
   "metadata": {},
   "outputs": [
    {
     "data": {
      "text/plain": [
       "32"
      ]
     },
     "execution_count": 153,
     "metadata": {},
     "output_type": "execute_result"
    }
   ],
   "source": [
    "# OF THOSE DIAGNOSED WHO BELIVE WILL HAVE ANONYMITY,  HOW MANY SOUGHT TREATMENT?\n",
    "diagnosed_anonymity_sought_treamtment_count = tech_workers_df[(tech_workers_df['Q27'] == 'Yes')& (tech_workers_df['Q8'] == \"Yes\") & (tech_workers_df['Q29'] == \"Yes\")]['Q29'].count()\n",
    "diagnosed_anonymity_sought_treamtment_count\n"
   ]
  },
  {
   "cell_type": "code",
   "execution_count": 157,
   "metadata": {},
   "outputs": [
    {
     "data": {
      "text/plain": [
       "94.1"
      ]
     },
     "execution_count": 157,
     "metadata": {},
     "output_type": "execute_result"
    }
   ],
   "source": [
    "#OF THOSE DIAGNOSED THAT BELIEVE WILL HAVE ANONYMITY, WHAT PERCENTAGE SOUGHT TREATMENT?\n",
    "\n",
    "diagnosed_anonymity_sought_treamtment_percent = diagnosed_anonymity_sought_treamtment_count / diagnosed_anonymity_count\n",
    "round(diagnosed_anonymity_sought_treamtment_percent * 100, 1)"
   ]
  },
  {
   "cell_type": "code",
   "execution_count": 161,
   "metadata": {},
   "outputs": [
    {
     "data": {
      "text/plain": [
       "4"
      ]
     },
     "execution_count": 161,
     "metadata": {},
     "output_type": "execute_result"
    }
   ],
   "source": [
    "# DIAGNOSED BELIEVES NO ANONYMITY\n",
    "tech_workers_df[(tech_workers_df['Q27'] == 'Yes') & (tech_workers_df['Q8'] == \"No\")].count()['Q8']  #['Q27']\n"
   ]
  },
  {
   "cell_type": "code",
   "execution_count": 162,
   "metadata": {},
   "outputs": [
    {
     "data": {
      "text/plain": [
       "3"
      ]
     },
     "execution_count": 162,
     "metadata": {},
     "output_type": "execute_result"
    }
   ],
   "source": [
    "# DIAGNOSED BELIEVES NO ANONYMITY SOUGHT TREATMENT\n",
    "tech_workers_df[(tech_workers_df['Q27'] == 'Yes') & (tech_workers_df['Q8'] == \"No\") & (tech_workers_df['Q29'] == 'Yes') ].count()['Q8']  #['Q27']\n"
   ]
  },
  {
   "cell_type": "code",
   "execution_count": 176,
   "metadata": {},
   "outputs": [
    {
     "data": {
      "text/plain": [
       "89"
      ]
     },
     "execution_count": 176,
     "metadata": {},
     "output_type": "execute_result"
    }
   ],
   "source": [
    "# DIAGNOSED DOES NOT KNOW IF WILL HAVE ANONYMITY\n",
    "dianosed_notsure_anonymity = tech_workers_df[(tech_workers_df['Q27'] == 'Yes') & (tech_workers_df['Q8'] == \"I don't know\")]['Q8'].count()\n",
    "dianosed_notsure_anonymity"
   ]
  },
  {
   "cell_type": "code",
   "execution_count": 292,
   "metadata": {},
   "outputs": [
    {
     "data": {
      "text/plain": [
       "83"
      ]
     },
     "execution_count": 292,
     "metadata": {},
     "output_type": "execute_result"
    }
   ],
   "source": [
    "# DIAGNOSED DOES NOT KNOW IF WILL HAVE ANONYMITY AND SOUGHT TREATMENT\n",
    "dianosed_notsure_if_anonymity_sought_treatment = \\\n",
    "tech_workers_df[(tech_workers_df['Q27'] == 'Yes') & (tech_workers_df['Q8'] == \"I don't know\") & (tech_workers_df['Q29'] == 'Yes') ]['Q29'].count()\n",
    "\n",
    "dianosed_notsure_if_anonymity_sought_treatment"
   ]
  },
  {
   "cell_type": "code",
   "execution_count": 294,
   "metadata": {},
   "outputs": [],
   "source": [
    "# OF THOSE DIAGNOSED THAT ARE NOT  SURE IF WILL HAVE ANONYMITY, WHAT PERCENTAGE SOUGHT TREATMENT\n",
    "dianosed_notsure_if_anonymity_sought_treatment_percent =  dianosed_notsure_anonymity_sought_treatment / dianosed_notsure_anonymity\n",
    "round(dianosed_notsure_if_anonymity_sought_treatment_percent * 100 ,2)"
   ]
  },
  {
   "cell_type": "code",
   "execution_count": 171,
   "metadata": {},
   "outputs": [
    {
     "data": {
      "text/plain": [
       "248"
      ]
     },
     "execution_count": 171,
     "metadata": {},
     "output_type": "execute_result"
    }
   ],
   "source": [
    "tech_workers_df['Q8'].value_counts().sum()"
   ]
  },
  {
   "cell_type": "code",
   "execution_count": 163,
   "metadata": {},
   "outputs": [
    {
     "data": {
      "text/plain": [
       "I don't know    163\n",
       "Yes              71\n",
       "No               14\n",
       "Name: Q8, dtype: int64"
      ]
     },
     "execution_count": 163,
     "metadata": {},
     "output_type": "execute_result"
    }
   ],
   "source": [
    "tech_workers_df['Q8'].value_counts()"
   ]
  },
  {
   "cell_type": "code",
   "execution_count": 184,
   "metadata": {},
   "outputs": [
    {
     "data": {
      "text/plain": [
       "Yes    143\n",
       "No     105\n",
       "Name: Q29, dtype: int64"
      ]
     },
     "execution_count": 184,
     "metadata": {},
     "output_type": "execute_result"
    }
   ],
   "source": [
    "# Tech Workers that sought treatment wether or not they were diagnosed\n",
    "\n",
    "tech_workers_df['Q29'].value_counts()"
   ]
  },
  {
   "cell_type": "code",
   "execution_count": 185,
   "metadata": {},
   "outputs": [
    {
     "data": {
      "text/plain": [
       "0.5766129032258065"
      ]
     },
     "execution_count": 185,
     "metadata": {},
     "output_type": "execute_result"
    }
   ],
   "source": [
    "# Tech Workers that sought treatment wether or not they were diagnosed percentage\n",
    "\n",
    "143/248"
   ]
  }
 ],
 "metadata": {
  "kernelspec": {
   "display_name": "Python 3",
   "language": "python",
   "name": "python3"
  },
  "language_info": {
   "codemirror_mode": {
    "name": "ipython",
    "version": 3
   },
   "file_extension": ".py",
   "mimetype": "text/x-python",
   "name": "python",
   "nbconvert_exporter": "python",
   "pygments_lexer": "ipython3",
   "version": "3.7.1"
  }
 },
 "nbformat": 4,
 "nbformat_minor": 2
}
